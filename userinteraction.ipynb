{
 "cells": [
  {
   "cell_type": "code",
   "execution_count": 21,
   "metadata": {},
   "outputs": [],
   "source": [
    "game_list=[0,1,2]\n",
    "\n",
    "def display_game_list(game_list):\n",
    "    print(\"Here is the current Gamelist:\")\n",
    "    print(game_list)\n"
   ]
  },
  {
   "cell_type": "code",
   "execution_count": 22,
   "metadata": {},
   "outputs": [],
   "source": [
    "#CHECKING GAME LIST\n",
    "\n",
    "def position_choice():\n",
    "\n",
    "    choice='wrong'\n",
    "\n",
    "    while choice not in ['0','1','2']:\n",
    "        choice=input(\"pick a position to replace (0,1,2)\")\n",
    "\n",
    "        if choice not in ['0','1','2']:\n",
    "            print(\"Sorry,you choose the incorrect value,Enter the position index betweeen (0,1,2)\")\n",
    "    return int(choice)\n"
   ]
  },
  {
   "cell_type": "code",
   "execution_count": 23,
   "metadata": {},
   "outputs": [],
   "source": [
    "def replacement_choice(game_list,position):\n",
    "\n",
    "    user_placement=input(\"Type the input to place in that position\")\n",
    "\n",
    "    game_list[position]=user_placement\n",
    "\n",
    "    return game_list"
   ]
  },
  {
   "cell_type": "code",
   "execution_count": 24,
   "metadata": {},
   "outputs": [],
   "source": [
    "def gameon_choice():\n",
    "    choice='wrong'\n",
    "    while choice not in ['Y','N']:\n",
    "        choice=input(\"Would you like to continue the game ['Y','N']\")\n",
    "\n",
    "        if choice not in ['Y','N']:\n",
    "            print(\"Sorry Enter the valid input Y or N\")\n",
    "\n",
    "    if choice == \"Y\":\n",
    "        return True\n",
    "    else:\n",
    "        return False\n",
    "        "
   ]
  },
  {
   "cell_type": "code",
   "execution_count": 25,
   "metadata": {},
   "outputs": [
    {
     "name": "stdout",
     "output_type": "stream",
     "text": [
      "Here is the current Gamelist:\n",
      "[0, 1, 2]\n",
      "Sorry,you choose the incorrect value,Enter the position index betweeen (0,1,2)\n",
      "Here is the current Gamelist:\n",
      "[0, 'Raghul', 2]\n",
      "Here is the current Gamelist:\n",
      "[0, 'Raghul', 2]\n",
      "Here is the current Gamelist:\n",
      "['Hello', 'Raghul', 2]\n"
     ]
    }
   ],
   "source": [
    "game_on=True\n",
    "game_list=[0,1,2]\n",
    "\n",
    "while game_on:\n",
    "\n",
    "    display_game_list(game_list)\n",
    "\n",
    "    position=position_choice()\n",
    "\n",
    "    game_list=replacement_choice(game_list,position)\n",
    "\n",
    "    display_game_list(game_list)\n",
    "\n",
    "    game_on=gameon_choice()\n",
    "\n",
    "\n",
    "    "
   ]
  },
  {
   "cell_type": "code",
   "execution_count": null,
   "metadata": {},
   "outputs": [],
   "source": []
  }
 ],
 "metadata": {
  "interpreter": {
   "hash": "b931b354833b0242e35e3387837e3d992290447c000c05b2957ad7214b3a0693"
  },
  "kernelspec": {
   "display_name": "Python 3.9.7 64-bit ('base': conda)",
   "language": "python",
   "name": "python3"
  },
  "language_info": {
   "codemirror_mode": {
    "name": "ipython",
    "version": 3
   },
   "file_extension": ".py",
   "mimetype": "text/x-python",
   "name": "python",
   "nbconvert_exporter": "python",
   "pygments_lexer": "ipython3",
   "version": "3.9.7"
  },
  "orig_nbformat": 4
 },
 "nbformat": 4,
 "nbformat_minor": 2
}
