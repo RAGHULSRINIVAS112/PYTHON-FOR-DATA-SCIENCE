{
  "nbformat": 4,
  "nbformat_minor": 0,
  "metadata": {
    "colab": {
      "name": "python for data science.ipynb",
      "provenance": [],
      "collapsed_sections": []
    },
    "kernelspec": {
      "name": "python3",
      "display_name": "Python 3"
    },
    "language_info": {
      "name": "python"
    }
  },
  "cells": [
    {
      "cell_type": "code",
      "execution_count": null,
      "metadata": {
        "colab": {
          "base_uri": "https://localhost:8080/"
        },
        "id": "5-W5YyZBqKVA",
        "outputId": "a238ea28-fd78-41d0-f234-d0cd1bfaea55"
      },
      "outputs": [
        {
          "output_type": "stream",
          "name": "stdout",
          "text": [
            "Enter a number5\n",
            "i is less than 10\n",
            "i is less than 15\n",
            "i is less than 12\n"
          ]
        }
      ],
      "source": [
        "i=int(input(\"Enter a number\"))\n",
        "\n",
        "if i<=10:\n",
        "  print(\"i is less than 10\")\n",
        "  if i<15:\n",
        "    print(\"i is less than 15\")\n",
        "\n",
        "  if i<12:\n",
        "    print(\"i is less than 12\")\n",
        "\n",
        "else:\n",
        "  print(\"i is greater than 15\")\n",
        "\n",
        "   "
      ]
    },
    {
      "cell_type": "code",
      "source": [
        "# python program to illustrate nested If statement\n",
        "#!/usr/bin/python\n",
        "i = 20\n",
        "if (i == 10):\n",
        "   \n",
        "    #  First if statement\n",
        "    if (i < 15):\n",
        "        print(\"i is smaller than 15\")\n",
        "         \n",
        "    # Nested - if statement\n",
        "    # Will only be executed if statement above\n",
        "    # it is true\n",
        "    if (i < 12):\n",
        "        print(\"i is smaller than 12 too\")\n",
        "else:\n",
        "  print(\"i is greater than 15\")"
      ],
      "metadata": {
        "colab": {
          "base_uri": "https://localhost:8080/"
        },
        "id": "KIpjvNFUsaEs",
        "outputId": "4dfe1b45-c13f-4e94-84b4-f7fdea4456a0"
      },
      "execution_count": null,
      "outputs": [
        {
          "output_type": "stream",
          "name": "stdout",
          "text": [
            "i is greater than 15\n"
          ]
        }
      ]
    },
    {
      "cell_type": "markdown",
      "source": [
        "FUNCTIONS"
      ],
      "metadata": {
        "id": "3WLH3LJ5GIsP"
      }
    },
    {
      "cell_type": "code",
      "source": [
        "def say_hello():\n",
        "  print(\"hello raghul\")\n",
        "\n",
        "say_hello()\n"
      ],
      "metadata": {
        "colab": {
          "base_uri": "https://localhost:8080/"
        },
        "id": "3E-Vcu5XGOJt",
        "outputId": "60c7c665-5c4b-4f46-fb4b-c1b8bd45bf4f"
      },
      "execution_count": null,
      "outputs": [
        {
          "output_type": "stream",
          "name": "stdout",
          "text": [
            "hello raghul\n"
          ]
        }
      ]
    },
    {
      "cell_type": "code",
      "source": [
        "def hello_name(name):\n",
        "  print(f'hello {name}')\n",
        "\n",
        "hello_name(\"Raghul\")\n"
      ],
      "metadata": {
        "colab": {
          "base_uri": "https://localhost:8080/"
        },
        "id": "k-SAZEFuGtbz",
        "outputId": "5a850791-8b48-4ea8-f1fc-b3fb7b769f98"
      },
      "execution_count": null,
      "outputs": [
        {
          "output_type": "stream",
          "name": "stdout",
          "text": [
            "hello Raghul\n"
          ]
        }
      ]
    },
    {
      "cell_type": "markdown",
      "source": [
        "Default Arguments"
      ],
      "metadata": {
        "id": "YYzX_CjHMEvM"
      }
    },
    {
      "cell_type": "code",
      "source": [
        "def hello_name(name=\"Meow\"):\n",
        "  print(f'hello {name}')\n",
        "\n",
        "hello_name()"
      ],
      "metadata": {
        "colab": {
          "base_uri": "https://localhost:8080/"
        },
        "id": "J1xno_oAMK6L",
        "outputId": "ba1892eb-098f-40c2-90f5-c867343a4bcf"
      },
      "execution_count": null,
      "outputs": [
        {
          "output_type": "stream",
          "name": "stdout",
          "text": [
            "hello Meow\n"
          ]
        }
      ]
    },
    {
      "cell_type": "code",
      "source": [
        "def print_result(a,b):\n",
        "  print(a+b)\n",
        "  \n",
        "result=print_result(10,20)\n",
        "\n",
        "print(result)"
      ],
      "metadata": {
        "colab": {
          "base_uri": "https://localhost:8080/"
        },
        "id": "TWmXYUaLPiSc",
        "outputId": "01ef91b2-f236-471f-ab38-a1c47a8a7456"
      },
      "execution_count": null,
      "outputs": [
        {
          "output_type": "stream",
          "name": "stdout",
          "text": [
            "30\n",
            "None\n"
          ]
        }
      ]
    },
    {
      "cell_type": "code",
      "source": [
        "def print_result(a,b):\n",
        "  return(a+b)\n",
        "  \n",
        "result=print_result(10,20)\n",
        "\n",
        "print(result)"
      ],
      "metadata": {
        "colab": {
          "base_uri": "https://localhost:8080/"
        },
        "id": "xW6jLhP8P2Us",
        "outputId": "8dbdec67-99e0-4eaf-feb5-eb40a9b2c859"
      },
      "execution_count": null,
      "outputs": [
        {
          "output_type": "stream",
          "name": "stdout",
          "text": [
            "30\n"
          ]
        }
      ]
    }
  ]
}